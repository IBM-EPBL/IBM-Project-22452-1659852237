{
  "nbformat": 4,
  "nbformat_minor": 0,
  "metadata": {
    "colab": {
      "provenance": []
    },
    "kernelspec": {
      "name": "python3",
      "display_name": "Python 3"
    },
    "language_info": {
      "name": "python"
    }
  },
  "cells": [
    {
      "cell_type": "markdown",
      "source": [
        "# Model Building for Vegetable Disease Prediction"
      ],
      "metadata": {
        "id": "3jGVIbvBBriF"
      }
    },
    {
      "cell_type": "code",
      "execution_count": null,
      "metadata": {
        "id": "chzCQ9MkZycU"
      },
      "outputs": [],
      "source": [
        "from keras.preprocessing.image import ImageDataGenerator"
      ]
    },
    {
      "cell_type": "markdown",
      "source": [
        "## Image Preprocessing using ImageDataGenerator"
      ],
      "metadata": {
        "id": "vciYVo65BAQI"
      }
    },
    {
      "cell_type": "code",
      "source": [
        "train_datagen = ImageDataGenerator(rescale = 1./255, shear_range = 0.2, zoom_range = 0.2, horizontal_flip = True)\n",
        "test_datagen = ImageDataGenerator(rescale = 1)"
      ],
      "metadata": {
        "id": "gDOJiAMsxx0_"
      },
      "execution_count": null,
      "outputs": []
    },
    {
      "cell_type": "code",
      "source": [
        "x_train = train_datagen.flow_from_directory(r'/content/Veg-dataset/Veg-dataset/train_set',target_size = (128,128), batch_size = 32, class_mode = 'categorical')\n",
        "x_test = test_datagen.flow_from_directory(r'/content/Veg-dataset/Veg-dataset/test_set',target_size = (128,128), batch_size = 32, class_mode = 'categorical')"
      ],
      "metadata": {
        "colab": {
          "base_uri": "https://localhost:8080/"
        },
        "id": "5rhPVqvu6JyB",
        "outputId": "150938a7-ee95-4806-e2c7-c6c9245bfbae"
      },
      "execution_count": 76,
      "outputs": [
        {
          "output_type": "stream",
          "name": "stdout",
          "text": [
            "Found 11385 images belonging to 9 classes.\n",
            "Found 750 images belonging to 9 classes.\n"
          ]
        }
      ]
    },
    {
      "cell_type": "markdown",
      "source": [
        "## Importing the libraries"
      ],
      "metadata": {
        "id": "crbuCWtMBKF7"
      }
    },
    {
      "cell_type": "code",
      "source": [
        "from keras.models import Sequential\n",
        "from keras.layers import Dense\n",
        "from keras.layers import Convolution2D\n",
        "from keras.layers import MaxPooling2D\n",
        "from keras.layers import Flatten"
      ],
      "metadata": {
        "id": "qRPLgnCSqWCS"
      },
      "execution_count": 30,
      "outputs": []
    },
    {
      "cell_type": "markdown",
      "source": [
        "## Model Building"
      ],
      "metadata": {
        "id": "vh1diJhWBOgA"
      }
    },
    {
      "cell_type": "code",
      "source": [
        "model = Sequential()"
      ],
      "metadata": {
        "id": "wipj9G_erGfs"
      },
      "execution_count": 31,
      "outputs": []
    },
    {
      "cell_type": "markdown",
      "source": [
        "## Adding layers to the model"
      ],
      "metadata": {
        "id": "TUor7m6QBRlJ"
      }
    },
    {
      "cell_type": "code",
      "source": [
        "model.add(Convolution2D(32,(3,3), input_shape = (128,128,3), activation = 'relu'))"
      ],
      "metadata": {
        "id": "soVghEvFrTtd"
      },
      "execution_count": 33,
      "outputs": []
    },
    {
      "cell_type": "code",
      "source": [
        "model.add(MaxPooling2D(pool_size = (2,2)))"
      ],
      "metadata": {
        "id": "a8J9h25YsK_T"
      },
      "execution_count": 34,
      "outputs": []
    },
    {
      "cell_type": "code",
      "source": [
        "model.add(Flatten())"
      ],
      "metadata": {
        "id": "kZuvufqOsbn2"
      },
      "execution_count": 35,
      "outputs": []
    },
    {
      "cell_type": "code",
      "source": [
        "model.summary()"
      ],
      "metadata": {
        "colab": {
          "base_uri": "https://localhost:8080/"
        },
        "id": "xTMsOjg9t1go",
        "outputId": "9ccb6d62-9c16-4349-8ca8-cc0573da202d"
      },
      "execution_count": 77,
      "outputs": [
        {
          "output_type": "stream",
          "name": "stdout",
          "text": [
            "Model: \"sequential\"\n",
            "_________________________________________________________________\n",
            " Layer (type)                Output Shape              Param #   \n",
            "=================================================================\n",
            " conv2d_1 (Conv2D)           (None, 126, 126, 32)      896       \n",
            "                                                                 \n",
            " max_pooling2d (MaxPooling2D  (None, 63, 63, 32)       0         \n",
            " )                                                               \n",
            "                                                                 \n",
            " flatten (Flatten)           (None, 127008)            0         \n",
            "                                                                 \n",
            " dense (Dense)               (None, 300)               38102700  \n",
            "                                                                 \n",
            " dense_1 (Dense)             (None, 150)               45150     \n",
            "                                                                 \n",
            " dense_2 (Dense)             (None, 9)                 1359      \n",
            "                                                                 \n",
            " dense_3 (Dense)             (None, 300)               3000      \n",
            "                                                                 \n",
            " dense_4 (Dense)             (None, 150)               45150     \n",
            "                                                                 \n",
            " dense_5 (Dense)             (None, 6)                 906       \n",
            "                                                                 \n",
            "=================================================================\n",
            "Total params: 38,199,161\n",
            "Trainable params: 38,199,161\n",
            "Non-trainable params: 0\n",
            "_________________________________________________________________\n"
          ]
        }
      ]
    },
    {
      "cell_type": "code",
      "source": [
        "model.add(Dense(300,activation='relu'))\n",
        "model.add(Dense(150,activation='relu'))"
      ],
      "metadata": {
        "id": "nCu70v8Kt9Wg"
      },
      "execution_count": 78,
      "outputs": []
    },
    {
      "cell_type": "code",
      "source": [
        "model.add(Dense(9, activation = 'softmax'))"
      ],
      "metadata": {
        "id": "LQoFlxzUs190"
      },
      "execution_count": 79,
      "outputs": []
    },
    {
      "cell_type": "markdown",
      "source": [
        "## Compiling the model"
      ],
      "metadata": {
        "id": "JNlz3Y76BYKV"
      }
    },
    {
      "cell_type": "code",
      "source": [
        "model.compile(loss='categorical_crossentropy',optimizer=\"adam\",metrics=[\"accuracy\"])"
      ],
      "metadata": {
        "id": "sbmXASlpuWor"
      },
      "execution_count": 80,
      "outputs": []
    },
    {
      "cell_type": "code",
      "source": [
        "len(x_train)"
      ],
      "metadata": {
        "colab": {
          "base_uri": "https://localhost:8080/"
        },
        "id": "IvNA_zl4u6NX",
        "outputId": "9d85e798-1450-449c-d2fd-806036efa1e5"
      },
      "execution_count": 81,
      "outputs": [
        {
          "output_type": "execute_result",
          "data": {
            "text/plain": [
              "356"
            ]
          },
          "metadata": {},
          "execution_count": 81
        }
      ]
    },
    {
      "cell_type": "code",
      "source": [
        "len(x_test)"
      ],
      "metadata": {
        "colab": {
          "base_uri": "https://localhost:8080/"
        },
        "id": "aQtLTy6lDAQj",
        "outputId": "f81d767c-4639-4897-916c-b7d81838d044"
      },
      "execution_count": 82,
      "outputs": [
        {
          "output_type": "execute_result",
          "data": {
            "text/plain": [
              "24"
            ]
          },
          "metadata": {},
          "execution_count": 82
        }
      ]
    },
    {
      "cell_type": "markdown",
      "source": [
        "## Model Fitting"
      ],
      "metadata": {
        "id": "-dFll0CwBbii"
      }
    },
    {
      "cell_type": "code",
      "source": [
        "model.fit(x_train, steps_per_epoch=len(x_train),validation_data=x_test,validation_steps=len(x_test),epochs=10)"
      ],
      "metadata": {
        "colab": {
          "base_uri": "https://localhost:8080/"
        },
        "id": "lOpb-0SivC7b",
        "outputId": "4d70f3af-74f7-46e3-d8be-a746ec8cb89f"
      },
      "execution_count": 83,
      "outputs": [
        {
          "output_type": "stream",
          "name": "stdout",
          "text": [
            "Epoch 1/10\n",
            "356/356 [==============================] - 294s 821ms/step - loss: 1.4784 - accuracy: 0.4540 - val_loss: 1.2836 - val_accuracy: 0.7147\n",
            "Epoch 2/10\n",
            "356/356 [==============================] - 290s 815ms/step - loss: 1.0785 - accuracy: 0.5955 - val_loss: 1.8063 - val_accuracy: 0.5680\n",
            "Epoch 3/10\n",
            "356/356 [==============================] - 289s 809ms/step - loss: 0.8824 - accuracy: 0.6930 - val_loss: 1.8846 - val_accuracy: 0.3880\n",
            "Epoch 4/10\n",
            "356/356 [==============================] - 290s 813ms/step - loss: 0.7073 - accuracy: 0.7643 - val_loss: 1.9312 - val_accuracy: 0.3573\n",
            "Epoch 5/10\n",
            "356/356 [==============================] - 289s 812ms/step - loss: 0.5931 - accuracy: 0.7980 - val_loss: 1.2552 - val_accuracy: 0.5560\n",
            "Epoch 6/10\n",
            "356/356 [==============================] - 289s 812ms/step - loss: 0.5508 - accuracy: 0.8188 - val_loss: 2.1893 - val_accuracy: 0.4853\n",
            "Epoch 7/10\n",
            "356/356 [==============================] - 289s 810ms/step - loss: 0.4766 - accuracy: 0.8378 - val_loss: 1.4635 - val_accuracy: 0.7560\n",
            "Epoch 8/10\n",
            "356/356 [==============================] - 289s 812ms/step - loss: 0.4310 - accuracy: 0.8588 - val_loss: 2.5084 - val_accuracy: 0.4227\n",
            "Epoch 9/10\n",
            "356/356 [==============================] - 293s 823ms/step - loss: 0.4152 - accuracy: 0.8646 - val_loss: 1.8773 - val_accuracy: 0.5547\n",
            "Epoch 10/10\n",
            "356/356 [==============================] - 293s 822ms/step - loss: 0.3686 - accuracy: 0.8765 - val_loss: 2.6036 - val_accuracy: 0.5320\n"
          ]
        },
        {
          "output_type": "execute_result",
          "data": {
            "text/plain": [
              "<keras.callbacks.History at 0x7fb7a68e4b10>"
            ]
          },
          "metadata": {},
          "execution_count": 83
        }
      ]
    },
    {
      "cell_type": "markdown",
      "source": [
        "## Saving the model"
      ],
      "metadata": {
        "id": "GwBkJdV9Be_b"
      }
    },
    {
      "cell_type": "code",
      "source": [
        "model.save('vegetable.h5')"
      ],
      "metadata": {
        "id": "mp0d-p6x5HyX"
      },
      "execution_count": 86,
      "outputs": []
    },
    {
      "cell_type": "code",
      "source": [
        "from keras.preprocessing import image\n",
        "from tensorflow.keras.preprocessing.image import img_to_array\n",
        "from tensorflow.keras.models import load_model\n",
        "import numpy as np\n",
        "from tensorflow.keras.utils import load_img, img_to_array"
      ],
      "metadata": {
        "id": "HXX5x-VM5lbE"
      },
      "execution_count": 87,
      "outputs": []
    },
    {
      "cell_type": "markdown",
      "source": [
        "## Evaluating the model"
      ],
      "metadata": {
        "id": "vmD1PrLyBjVT"
      }
    },
    {
      "cell_type": "code",
      "source": [
        "test_model = load_model(\"vegetable.h5\")"
      ],
      "metadata": {
        "id": "QnZNgVEF6HAr"
      },
      "execution_count": 89,
      "outputs": []
    },
    {
      "cell_type": "code",
      "source": [
        "test_img = load_img('/content/Veg-dataset/Veg-dataset/test_set/Pepper,_bell___healthy/b355fbff-bc2c-4266-be05-f6266692c1dd___JR_HL 8410.JPG',target_size = (128,128))"
      ],
      "metadata": {
        "id": "utrq-52o6Tb5"
      },
      "execution_count": 91,
      "outputs": []
    },
    {
      "cell_type": "code",
      "source": [
        "test_img"
      ],
      "metadata": {
        "colab": {
          "base_uri": "https://localhost:8080/",
          "height": 145
        },
        "id": "aphnrwqxAu_P",
        "outputId": "17b07186-bd0c-48cf-ce3e-311cc04cf621"
      },
      "execution_count": 92,
      "outputs": [
        {
          "output_type": "execute_result",
          "data": {
            "text/plain": [
              "<PIL.Image.Image image mode=RGB size=128x128 at 0x7FB7AA919550>"
            ],
            "image/png": "[encoded data removed]"
          },
          "metadata": {},
          "execution_count": 92
        }
      ]
    },
    {
      "cell_type": "code",
      "source": [
        "x = img_to_array(test_img)\n",
        "x = np.expand_dims(x, axis=0)"
      ],
      "metadata": {
        "id": "Sqw549IF8tts"
      },
      "execution_count": 93,
      "outputs": []
    },
    {
      "cell_type": "code",
      "source": [
        "predict = np.argmax(test_model.predict(x),axis=1)"
      ],
      "metadata": {
        "colab": {
          "base_uri": "https://localhost:8080/"
        },
        "id": "lx9QkeVj_kxz",
        "outputId": "76e6b34b-10a2-4ccb-ccd7-8a031ab34663"
      },
      "execution_count": 94,
      "outputs": [
        {
          "output_type": "stream",
          "name": "stdout",
          "text": [
            "1/1 [==============================] - 0s 237ms/step\n"
          ]
        }
      ]
    },
    {
      "cell_type": "code",
      "source": [
        "x_train.class_indices"
      ],
      "metadata": {
        "colab": {
          "base_uri": "https://localhost:8080/"
        },
        "id": "KSyqhWSh_uY0",
        "outputId": "1e24a8e5-ddb6-435d-a957-020edc567c18"
      },
      "execution_count": 95,
      "outputs": [
        {
          "output_type": "execute_result",
          "data": {
            "text/plain": [
              "{'Pepper,_bell___Bacterial_spot': 0,\n",
              " 'Pepper,_bell___healthy': 1,\n",
              " 'Potato___Early_blight': 2,\n",
              " 'Potato___Late_blight': 3,\n",
              " 'Potato___healthy': 4,\n",
              " 'Tomato___Bacterial_spot': 5,\n",
              " 'Tomato___Late_blight': 6,\n",
              " 'Tomato___Leaf_Mold': 7,\n",
              " 'Tomato___Septoria_leaf_spot': 8}"
            ]
          },
          "metadata": {},
          "execution_count": 95
        }
      ]
    },
    {
      "cell_type": "code",
      "source": [
        "index = ['Pepper,_bell___Bacterial_spot','Pepper,_bell___healthy','Potato___Early_blight','Potato___Late_blight','Potato___healthy','Tomato___Bacterial_spot','Tomato___Late_blight','Tomato___Leaf_Mold','Tomato___Septoria_leaf_spot']"
      ],
      "metadata": {
        "id": "JAIjRi3Q_y9q"
      },
      "execution_count": 96,
      "outputs": []
    },
    {
      "cell_type": "code",
      "source": [
        "predict[0]"
      ],
      "metadata": {
        "colab": {
          "base_uri": "https://localhost:8080/"
        },
        "id": "qgyhO3YbAzn3",
        "outputId": "f63671e1-b701-42cb-d769-95d771012e31"
      },
      "execution_count": 97,
      "outputs": [
        {
          "output_type": "execute_result",
          "data": {
            "text/plain": [
              "1"
            ]
          },
          "metadata": {},
          "execution_count": 97
        }
      ]
    },
    {
      "cell_type": "code",
      "source": [
        "index[predict[0]]"
      ],
      "metadata": {
        "colab": {
          "base_uri": "https://localhost:8080/",
          "height": 35
        },
        "id": "xDPajGv2A5Tp",
        "outputId": "8fd7fc80-7113-49d0-db7b-1478b4cbf88c"
      },
      "execution_count": 98,
      "outputs": [
        {
          "output_type": "execute_result",
          "data": {
            "text/plain": [
              "'Pepper,_bell___healthy'"
            ],
            "application/vnd.google.colaboratory.intrinsic+json": {
              "type": "string"
            }
          },
          "metadata": {},
          "execution_count": 98
        }
      ]
    }
  ]
}